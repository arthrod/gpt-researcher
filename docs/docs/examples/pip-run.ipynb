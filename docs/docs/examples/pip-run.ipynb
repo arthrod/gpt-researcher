{
 "cells": [
  {
   "cell_type": "code",
   "execution_count": 1,
   "metadata": {
    "id": "byPgKYhAE6gn"
   },
   "outputs": [],
   "source": [
    "import os\n",
    "\n",
    "os.environ[\"OPENAI_API_KEY\"] = \"your_openai_api_key\"\n",
    "os.environ[\"TAVILY_API_KEY\"] = (\n",
    "    \"your_tavily_api_key\"  # Get a free key here: https://app.tavily.com\n",
    ")"
   ]
  },
  {
   "cell_type": "code",
   "execution_count": null,
   "metadata": {
    "id": "-rXET3OZLxwH"
   },
   "outputs": [],
   "source": [
    "%pip install -U gpt-researcher nest_asyncio"
   ]
  },
  {
   "cell_type": "code",
   "execution_count": null,
   "metadata": {
    "id": "KWZe2InrL0ji"
   },
   "outputs": [],
   "source": [
    "import asyncio # noqa\n",
    "import nest_asyncio\n",
    "\n",
    "nest_asyncio.apply()\n",
    "\n",
    "\n",
    "\n",
    "from gpt_researcher import GPTResearcher # noqa\n",
    "\n",
    "\n",
    "async def get_report(query: str, report_type: str) -> str:\n",
    "    researcher = GPTResearcher(query, report_type)\n",
    "    await researcher.conduct_research()\n",
    "    report = await researcher.write_report()\n",
    "\n",
    "    # Get additional information\n",
    "    research_context = researcher.get_research_context()\n",
    "    research_costs = researcher.get_costs()\n",
    "    research_images = researcher.get_research_images()\n",
    "    research_sources = researcher.get_research_sources()\n",
    "\n",
    "    return report, research_context, research_costs, research_images, research_sources\n",
    "\n",
    "\n",
    "if __name__ == \"__main__\":\n",
    "    query = \"Should I invest in Nvidia?\"\n",
    "    report_type = \"research_report\"\n",
    "\n",
    "    report, context, costs, images, sources = asyncio.run(\n",
    "        get_report(query, report_type)\n",
    "    )\n",
    "\n",
    "    print(\"Report:\")\n",
    "    print(report)\n",
    "    print(\"\\nResearch Costs:\")\n",
    "    print(costs)\n",
    "    print(\"\\nResearch Images:\")\n",
    "    print(images)\n",
    "    print(\"\\nResearch Sources:\")\n",
    "    print(sources)"
   ]
  }
 ],
 "metadata": {
  "colab": {
   "provenance": []
  },
  "kernelspec": {
   "display_name": "Python 3",
   "name": "python3"
  },
  "language_info": {
   "name": "python"
  }
 },
 "nbformat": 4,
 "nbformat_minor": 0
}
